{
 "cells": [
  {
   "cell_type": "markdown",
   "metadata": {},
   "source": [
    "## Question\n",
    "A nationwide survey of hospital costs conducted by the US Agency for Healthcare\n",
    "consists of hospital records of inpatient samples. The given data is restricted to\n",
    "the city of Wisconsin and relates to patients in the age group 0-17 years. The\n",
    "agency wants to analyze the data to research on the healthcare costs and their\n",
    "utilization"
   ]
  },
  {
   "cell_type": "markdown",
   "metadata": {},
   "source": [
    "#### Here is a detailed description of the given dataset:\n"
   ]
  },
  {
   "cell_type": "code",
   "execution_count": 56,
   "metadata": {},
   "outputs": [],
   "source": [
    "# AGE : Age of the patient discharged\n",
    "# FEMALE : Binary variable that indicates if the patient is female\n",
    "# LOS : Length of stay, in days\n",
    "# RACE : Race of the patient (specified numerically)\n",
    "# TOTCHG : Hospital discharge costs\n",
    "# APRDRG : All Patient Refined Diagnosis Related Groups"
   ]
  },
  {
   "cell_type": "code",
   "execution_count": 1,
   "metadata": {
    "scrolled": true
   },
   "outputs": [
    {
     "data": {
      "text/html": [
       "<table>\n",
       "<caption>A data.frame: 5 × 6</caption>\n",
       "<thead>\n",
       "\t<tr><th></th><th scope=col>AGE</th><th scope=col>FEMALE</th><th scope=col>LOS</th><th scope=col>RACE</th><th scope=col>TOTCHG</th><th scope=col>APRDRG</th></tr>\n",
       "\t<tr><th></th><th scope=col>&lt;int&gt;</th><th scope=col>&lt;int&gt;</th><th scope=col>&lt;int&gt;</th><th scope=col>&lt;int&gt;</th><th scope=col>&lt;int&gt;</th><th scope=col>&lt;int&gt;</th></tr>\n",
       "</thead>\n",
       "<tbody>\n",
       "\t<tr><th scope=row>1</th><td>17</td><td>1</td><td>2</td><td>1</td><td> 2660</td><td>560</td></tr>\n",
       "\t<tr><th scope=row>2</th><td>17</td><td>0</td><td>2</td><td>1</td><td> 1689</td><td>753</td></tr>\n",
       "\t<tr><th scope=row>3</th><td>17</td><td>1</td><td>7</td><td>1</td><td>20060</td><td>930</td></tr>\n",
       "\t<tr><th scope=row>4</th><td>17</td><td>1</td><td>1</td><td>1</td><td>  736</td><td>758</td></tr>\n",
       "\t<tr><th scope=row>5</th><td>17</td><td>1</td><td>1</td><td>1</td><td> 1194</td><td>754</td></tr>\n",
       "</tbody>\n",
       "</table>\n"
      ],
      "text/latex": [
       "A data.frame: 5 × 6\n",
       "\\begin{tabular}{r|llllll}\n",
       "  & AGE & FEMALE & LOS & RACE & TOTCHG & APRDRG\\\\\n",
       "  & <int> & <int> & <int> & <int> & <int> & <int>\\\\\n",
       "\\hline\n",
       "\t1 & 17 & 1 & 2 & 1 &  2660 & 560\\\\\n",
       "\t2 & 17 & 0 & 2 & 1 &  1689 & 753\\\\\n",
       "\t3 & 17 & 1 & 7 & 1 & 20060 & 930\\\\\n",
       "\t4 & 17 & 1 & 1 & 1 &   736 & 758\\\\\n",
       "\t5 & 17 & 1 & 1 & 1 &  1194 & 754\\\\\n",
       "\\end{tabular}\n"
      ],
      "text/markdown": [
       "\n",
       "A data.frame: 5 × 6\n",
       "\n",
       "| <!--/--> | AGE &lt;int&gt; | FEMALE &lt;int&gt; | LOS &lt;int&gt; | RACE &lt;int&gt; | TOTCHG &lt;int&gt; | APRDRG &lt;int&gt; |\n",
       "|---|---|---|---|---|---|---|\n",
       "| 1 | 17 | 1 | 2 | 1 |  2660 | 560 |\n",
       "| 2 | 17 | 0 | 2 | 1 |  1689 | 753 |\n",
       "| 3 | 17 | 1 | 7 | 1 | 20060 | 930 |\n",
       "| 4 | 17 | 1 | 1 | 1 |   736 | 758 |\n",
       "| 5 | 17 | 1 | 1 | 1 |  1194 | 754 |\n",
       "\n"
      ],
      "text/plain": [
       "  AGE FEMALE LOS RACE TOTCHG APRDRG\n",
       "1 17  1      2   1     2660  560   \n",
       "2 17  0      2   1     1689  753   \n",
       "3 17  1      7   1    20060  930   \n",
       "4 17  1      1   1      736  758   \n",
       "5 17  1      1   1     1194  754   "
      ]
     },
     "metadata": {},
     "output_type": "display_data"
    }
   ],
   "source": [
    "healthcare_costs <- read.csv('HospitalCosts.csv')\n",
    "head(healthcare_costs,5)\n"
   ]
  },
  {
   "cell_type": "code",
   "execution_count": 60,
   "metadata": {},
   "outputs": [
    {
     "data": {
      "text/plain": [
       "      AGE         FEMALE       LOS        RACE        TOTCHG     \n",
       " Min.   : 0.000   0:244   Min.   : 0.00   1:484   Min.   :  532  \n",
       " 1st Qu.: 0.000   1:255   1st Qu.: 2.00   2:  6   1st Qu.: 1218  \n",
       " Median : 0.000           Median : 2.00   3:  1   Median : 1538  \n",
       " Mean   : 5.096           Mean   : 2.83   4:  3   Mean   : 2778  \n",
       " 3rd Qu.:13.000           3rd Qu.: 3.00   5:  3   3rd Qu.: 2530  \n",
       " Max.   :17.000           Max.   :41.00   6:  2   Max.   :48388  \n",
       "                                                                 \n",
       "     APRDRG      APRDRG_Factor\n",
       " Min.   : 21.0   640    :266  \n",
       " 1st Qu.:640.0   754    : 37  \n",
       " Median :640.0   753    : 36  \n",
       " Mean   :616.3   758    : 20  \n",
       " 3rd Qu.:751.0   751    : 14  \n",
       " Max.   :952.0   755    : 13  \n",
       "                 (Other):113  "
      ]
     },
     "metadata": {},
     "output_type": "display_data"
    }
   ],
   "source": [
    "#Summary of the dataset\n",
    "summary(healthcare_costs)\n"
   ]
  },
  {
   "cell_type": "code",
   "execution_count": 3,
   "metadata": {},
   "outputs": [
    {
     "name": "stdout",
     "output_type": "stream",
     "text": [
      "'data.frame':\t500 obs. of  6 variables:\n",
      " $ AGE   : int  17 17 17 17 17 17 17 16 16 17 ...\n",
      " $ FEMALE: int  1 0 1 1 1 0 1 1 1 1 ...\n",
      " $ LOS   : int  2 2 7 1 1 0 4 2 1 2 ...\n",
      " $ RACE  : int  1 1 1 1 1 1 1 1 1 1 ...\n",
      " $ TOTCHG: int  2660 1689 20060 736 1194 3305 2205 1167 532 1363 ...\n",
      " $ APRDRG: int  560 753 930 758 754 347 754 754 753 758 ...\n"
     ]
    }
   ],
   "source": [
    "#structure of the data frame \n",
    "str(healthcare_costs)"
   ]
  },
  {
   "cell_type": "markdown",
   "metadata": {},
   "source": [
    "##         Data Preperation"
   ]
  },
  {
   "cell_type": "code",
   "execution_count": 4,
   "metadata": {},
   "outputs": [
    {
     "name": "stdout",
     "output_type": "stream",
     "text": [
      "'data.frame':\t500 obs. of  6 variables:\n",
      " $ AGE   : int  17 17 17 17 17 17 17 16 16 17 ...\n",
      " $ FEMALE: Factor w/ 2 levels \"0\",\"1\": 2 1 2 2 2 1 2 2 2 2 ...\n",
      " $ LOS   : int  2 2 7 1 1 0 4 2 1 2 ...\n",
      " $ RACE  : Factor w/ 6 levels \"1\",\"2\",\"3\",\"4\",..: 1 1 1 1 1 1 1 1 1 1 ...\n",
      " $ TOTCHG: int  2660 1689 20060 736 1194 3305 2205 1167 532 1363 ...\n",
      " $ APRDRG: int  560 753 930 758 754 347 754 754 753 758 ...\n"
     ]
    }
   ],
   "source": [
    "#We see that the variables RACE and FEMALE are integer variables so we change them to factors\n",
    "var <- c('RACE','FEMALE')\n",
    "for (i in var){\n",
    "  healthcare_costs[,i] = as.factor(healthcare_costs[,i])}\n",
    "str(healthcare_costs)\n"
   ]
  },
  {
   "cell_type": "markdown",
   "metadata": {},
   "source": [
    "##  Task 1"
   ]
  },
  {
   "cell_type": "markdown",
   "metadata": {},
   "source": [
    "### To record the patient statistics, the agency wants to find the age category of people who frequent the hospital and have the maximum expenditure. "
   ]
  },
  {
   "cell_type": "markdown",
   "metadata": {},
   "source": [
    "we need find the age category that has the highest frequency of hospital visits, we can visualise the frequency using a histogram  "
   ]
  },
  {
   "cell_type": "code",
   "execution_count": 30,
   "metadata": {},
   "outputs": [
    {
     "data": {
      "text/html": [
       "<style>\n",
       ".dl-inline {width: auto; margin:0; padding: 0}\n",
       ".dl-inline>dt, .dl-inline>dd {float: none; width: auto; display: inline-block}\n",
       ".dl-inline>dt::after {content: \":\\0020\"; padding-right: .5ex}\n",
       ".dl-inline>dt:not(:first-of-type) {padding-left: .5ex}\n",
       "</style><dl class=dl-inline><dt>Group: 0-1</dt><dd>306</dd><dt> Group: 1-2</dt><dd>10</dd><dt>Group: 2-3</dt><dd>1</dd><dt>Group: 3-4</dt><dd>3</dd><dt>Group: 4-5</dt><dd>2</dd><dt>Group: 5-6</dt><dd>2</dd><dt>Group: 6-7</dt><dd>2</dd><dt>Group: 7-8</dt><dd>3</dd><dt>Group: 8-9</dt><dd>2</dd><dt>Group: 9-10</dt><dd>2</dd><dt>Group: 10-11</dt><dd>4</dd><dt>Group: 11-12</dt><dd>8</dd><dt>Group: 12-13</dt><dd>15</dd><dt>Group: 13-14</dt><dd>18</dd><dt>Group: 14-15</dt><dd>25</dd><dt>Group: 15-16</dt><dd>29</dd><dt>Group: 16-17</dt><dd>67</dd></dl>\n"
      ],
      "text/latex": [
       "\\begin{description*}\n",
       "\\item[Group: 0-1] 306\n",
       "\\item[ Group: 1-2] 10\n",
       "\\item[Group: 2-3] 1\n",
       "\\item[Group: 3-4] 3\n",
       "\\item[Group: 4-5] 2\n",
       "\\item[Group: 5-6] 2\n",
       "\\item[Group: 6-7] 2\n",
       "\\item[Group: 7-8] 3\n",
       "\\item[Group: 8-9] 2\n",
       "\\item[Group: 9-10] 2\n",
       "\\item[Group: 10-11] 4\n",
       "\\item[Group: 11-12] 8\n",
       "\\item[Group: 12-13] 15\n",
       "\\item[Group: 13-14] 18\n",
       "\\item[Group: 14-15] 25\n",
       "\\item[Group: 15-16] 29\n",
       "\\item[Group: 16-17] 67\n",
       "\\end{description*}\n"
      ],
      "text/markdown": [
       "Group: 0-1\n",
       ":   306 Group: 1-2\n",
       ":   10Group: 2-3\n",
       ":   1Group: 3-4\n",
       ":   3Group: 4-5\n",
       ":   2Group: 5-6\n",
       ":   2Group: 6-7\n",
       ":   2Group: 7-8\n",
       ":   3Group: 8-9\n",
       ":   2Group: 9-10\n",
       ":   2Group: 10-11\n",
       ":   4Group: 11-12\n",
       ":   8Group: 12-13\n",
       ":   15Group: 13-14\n",
       ":   18Group: 14-15\n",
       ":   25Group: 15-16\n",
       ":   29Group: 16-17\n",
       ":   67\n",
       "\n"
      ],
      "text/plain": [
       "  Group: 0-1   Group: 1-2   Group: 2-3   Group: 3-4   Group: 4-5   Group: 5-6 \n",
       "         306           10            1            3            2            2 \n",
       "  Group: 6-7   Group: 7-8   Group: 8-9  Group: 9-10 Group: 10-11 Group: 11-12 \n",
       "           2            3            2            2            4            8 \n",
       "Group: 12-13 Group: 13-14 Group: 14-15 Group: 15-16 Group: 16-17 \n",
       "          15           18           25           29           67 "
      ]
     },
     "metadata": {},
     "output_type": "display_data"
    },
    {
     "data": {
      "image/png": "[encoded data removed]",
      "text/plain": [
       "Plot with title \"Frequency of Hospital visits by age categories\""
      ]
     },
     "metadata": {
      "image/png": {
       "height": 420,
       "width": 420
      },
      "text/plain": {
       "height": 420,
       "width": 420
      }
     },
     "output_type": "display_data"
    }
   ],
   "source": [
    "#1. Find the age group with the highest frequency of hospital visits\n",
    "\n",
    "\n",
    "     breaks <- c(0,1,2,3,4,5,6,7,8,9,10,11,12,13,14,15,16,17)\n",
    "    tags <- c('Group: 0-1',' Group: 1-2','Group: 2-3','Group: 3-4','Group: 4-5','Group: 5-6',\n",
    "              'Group: 6-7','Group: 7-8','Group: 8-9','Group: 9-10','Group: 10-11','Group: 11-12',\n",
    "              'Group: 12-13','Group: 13-14','Group: 14-15','Group: 15-16','Group: 16-17')\n",
    "\n",
    "    \n",
    "\n",
    "    group_tags <- cut(healthcare_costs$AGE,breaks = breaks,include.lowest = TRUE,right = FALSE,\n",
    "                      labels = tags)\n",
    "    summary(group_tags)\n",
    "\n",
    "hist(healthcare_costs$AGE, \n",
    "         main=\"Frequency of Hospital visits by age categories\", \n",
    "         xlab=\"Age Categories\", \n",
    "         border=\"black\", \n",
    "         col=\"blue\")\n"
   ]
  },
  {
   "cell_type": "markdown",
   "metadata": {},
   "source": [
    "The histogram shows that the age category of 0-1 years  has the highest    frequency of hopital visits,\n",
    "The summary shows that  we have  307 hospital visits for people in the age range 0-1 years\n"
   ]
  },
  {
   "cell_type": "code",
   "execution_count": 13,
   "metadata": {},
   "outputs": [
    {
     "data": {
      "text/html": [
       "678118"
      ],
      "text/latex": [
       "678118"
      ],
      "text/markdown": [
       "678118"
      ],
      "text/plain": [
       "[1] 678118"
      ]
     },
     "metadata": {},
     "output_type": "display_data"
    }
   ],
   "source": [
    "#2.To find the Age category with the Maximum Expenditure \n",
    "\n",
    "    #We first need to find the sum of expendicture for each age group and then find the maximum sum\n",
    "    #to compute the summary for the data subset we can use the function aggregare\n",
    "\n",
    "    summary_costs<-aggregate(TOTCHG ~ AGE, FUN = sum, data = healthcare_costs)\n",
    "    Max_cost <- max(aggregate(TOTCHG ~ AGE, FUN = sum, data = healthcare_costs))\n",
    "    Max_cost\n"
   ]
  },
  {
   "cell_type": "code",
   "execution_count": 16,
   "metadata": {},
   "outputs": [
    {
     "data": {
      "text/html": [
       "<table>\n",
       "<caption>A data.frame: 1 × 2</caption>\n",
       "<thead>\n",
       "\t<tr><th></th><th scope=col>AGE</th><th scope=col>TOTCHG</th></tr>\n",
       "\t<tr><th></th><th scope=col>&lt;int&gt;</th><th scope=col>&lt;int&gt;</th></tr>\n",
       "</thead>\n",
       "<tbody>\n",
       "\t<tr><th scope=row>1</th><td>0</td><td>678118</td></tr>\n",
       "</tbody>\n",
       "</table>\n"
      ],
      "text/latex": [
       "A data.frame: 1 × 2\n",
       "\\begin{tabular}{r|ll}\n",
       "  & AGE & TOTCHG\\\\\n",
       "  & <int> & <int>\\\\\n",
       "\\hline\n",
       "\t1 & 0 & 678118\\\\\n",
       "\\end{tabular}\n"
      ],
      "text/markdown": [
       "\n",
       "A data.frame: 1 × 2\n",
       "\n",
       "| <!--/--> | AGE &lt;int&gt; | TOTCHG &lt;int&gt; |\n",
       "|---|---|---|\n",
       "| 1 | 0 | 678118 |\n",
       "\n"
      ],
      "text/plain": [
       "  AGE TOTCHG\n",
       "1 0   678118"
      ]
     },
     "metadata": {},
     "output_type": "display_data"
    }
   ],
   "source": [
    "#From the summary we see that the maximum expenditure per age group for\n",
    "# The total hospital discharge cost(TOTCHG) is 678 118 \n",
    "#  Which is also confirmed by the max function\n",
    "summary_costs[(summary_costs$TOTCHG == max(summary_costs$TOTCHG)),]"
   ]
  },
  {
   "cell_type": "markdown",
   "metadata": {},
   "source": [
    "Result : The age category with the maximum hospital costs is Age category 0-1(AGE =0) \n",
    "with a costs 678 118 which makes sense\n",
    "since the same age category had the highest frequency of hopital visits, followed \n",
    "by AGE = 17 and AGE = 15 respectively.\n",
    "\n"
   ]
  },
  {
   "cell_type": "markdown",
   "metadata": {},
   "source": [
    "## Task 2"
   ]
  },
  {
   "cell_type": "markdown",
   "metadata": {},
   "source": [
    "### In order severity of the diagnosis treatments and to find out the expensive treatmetents, the agency wants to find the diagnosis realted group that has maximum hospitalization and expenditure.                                  "
   ]
  },
  {
   "cell_type": "code",
   "execution_count": 17,
   "metadata": {},
   "outputs": [
    {
     "data": {
      "text/html": [
       "<style>\n",
       ".list-inline {list-style: none; margin:0; padding: 0}\n",
       ".list-inline>li {display: inline-block}\n",
       ".list-inline>li:not(:last-child)::after {content: \"\\00b7\"; padding: 0 .5ex}\n",
       "</style>\n",
       "<ol class=list-inline><li>560</li><li>753</li><li>930</li><li>758</li><li>754</li><li>347</li><li>751</li><li>812</li><li>566</li><li>249</li><li>422</li><li>50</li><li>139</li><li>141</li><li>420</li><li>97</li><li>811</li><li>755</li><li>720</li><li>53</li><li>760</li><li>710</li><li>776</li><li>115</li><li>602</li><li>138</li><li>137</li><li>640</li><li>639</li><li>143</li><li>254</li><li>581</li><li>633</li><li>626</li><li>636</li><li>23</li><li>57</li><li>421</li><li>580</li><li>750</li><li>49</li><li>51</li><li>313</li><li>614</li><li>634</li><li>952</li><li>21</li><li>92</li><li>756</li><li>317</li><li>344</li><li>114</li><li>206</li><li>723</li><li>911</li><li>54</li><li>225</li><li>58</li><li>740</li><li>308</li><li>204</li><li>561</li><li>863</li></ol>\n"
      ],
      "text/latex": [
       "\\begin{enumerate*}\n",
       "\\item 560\n",
       "\\item 753\n",
       "\\item 930\n",
       "\\item 758\n",
       "\\item 754\n",
       "\\item 347\n",
       "\\item 751\n",
       "\\item 812\n",
       "\\item 566\n",
       "\\item 249\n",
       "\\item 422\n",
       "\\item 50\n",
       "\\item 139\n",
       "\\item 141\n",
       "\\item 420\n",
       "\\item 97\n",
       "\\item 811\n",
       "\\item 755\n",
       "\\item 720\n",
       "\\item 53\n",
       "\\item 760\n",
       "\\item 710\n",
       "\\item 776\n",
       "\\item 115\n",
       "\\item 602\n",
       "\\item 138\n",
       "\\item 137\n",
       "\\item 640\n",
       "\\item 639\n",
       "\\item 143\n",
       "\\item 254\n",
       "\\item 581\n",
       "\\item 633\n",
       "\\item 626\n",
       "\\item 636\n",
       "\\item 23\n",
       "\\item 57\n",
       "\\item 421\n",
       "\\item 580\n",
       "\\item 750\n",
       "\\item 49\n",
       "\\item 51\n",
       "\\item 313\n",
       "\\item 614\n",
       "\\item 634\n",
       "\\item 952\n",
       "\\item 21\n",
       "\\item 92\n",
       "\\item 756\n",
       "\\item 317\n",
       "\\item 344\n",
       "\\item 114\n",
       "\\item 206\n",
       "\\item 723\n",
       "\\item 911\n",
       "\\item 54\n",
       "\\item 225\n",
       "\\item 58\n",
       "\\item 740\n",
       "\\item 308\n",
       "\\item 204\n",
       "\\item 561\n",
       "\\item 863\n",
       "\\end{enumerate*}\n"
      ],
      "text/markdown": [
       "1. 560\n",
       "2. 753\n",
       "3. 930\n",
       "4. 758\n",
       "5. 754\n",
       "6. 347\n",
       "7. 751\n",
       "8. 812\n",
       "9. 566\n",
       "10. 249\n",
       "11. 422\n",
       "12. 50\n",
       "13. 139\n",
       "14. 141\n",
       "15. 420\n",
       "16. 97\n",
       "17. 811\n",
       "18. 755\n",
       "19. 720\n",
       "20. 53\n",
       "21. 760\n",
       "22. 710\n",
       "23. 776\n",
       "24. 115\n",
       "25. 602\n",
       "26. 138\n",
       "27. 137\n",
       "28. 640\n",
       "29. 639\n",
       "30. 143\n",
       "31. 254\n",
       "32. 581\n",
       "33. 633\n",
       "34. 626\n",
       "35. 636\n",
       "36. 23\n",
       "37. 57\n",
       "38. 421\n",
       "39. 580\n",
       "40. 750\n",
       "41. 49\n",
       "42. 51\n",
       "43. 313\n",
       "44. 614\n",
       "45. 634\n",
       "46. 952\n",
       "47. 21\n",
       "48. 92\n",
       "49. 756\n",
       "50. 317\n",
       "51. 344\n",
       "52. 114\n",
       "53. 206\n",
       "54. 723\n",
       "55. 911\n",
       "56. 54\n",
       "57. 225\n",
       "58. 58\n",
       "59. 740\n",
       "60. 308\n",
       "61. 204\n",
       "62. 561\n",
       "63. 863\n",
       "\n",
       "\n"
      ],
      "text/plain": [
       " [1] 560 753 930 758 754 347 751 812 566 249 422  50 139 141 420  97 811 755 720\n",
       "[20]  53 760 710 776 115 602 138 137 640 639 143 254 581 633 626 636  23  57 421\n",
       "[39] 580 750  49  51 313 614 634 952  21  92 756 317 344 114 206 723 911  54 225\n",
       "[58]  58 740 308 204 561 863"
      ]
     },
     "metadata": {},
     "output_type": "display_data"
    },
    {
     "name": "stdout",
     "output_type": "stream",
     "text": [
      "'data.frame':\t500 obs. of  7 variables:\n",
      " $ AGE          : int  17 17 17 17 17 17 17 16 16 17 ...\n",
      " $ FEMALE       : Factor w/ 2 levels \"0\",\"1\": 2 1 2 2 2 1 2 2 2 2 ...\n",
      " $ LOS          : int  2 2 7 1 1 0 4 2 1 2 ...\n",
      " $ RACE         : Factor w/ 6 levels \"1\",\"2\",\"3\",\"4\",..: 1 1 1 1 1 1 1 1 1 1 ...\n",
      " $ TOTCHG       : int  2660 1689 20060 736 1194 3305 2205 1167 532 1363 ...\n",
      " $ APRDRG       : int  560 753 930 758 754 347 754 754 753 758 ...\n",
      " $ APRDRG_Factor: Factor w/ 63 levels \"21\",\"23\",\"49\",..: 32 51 62 55 52 28 52 52 51 55 ...\n"
     ]
    }
   ],
   "source": [
    "\n",
    "#1. Find diagnosis related group that has the maximum hospitalization\n",
    "  \n",
    "    unique(healthcare_costs$APRDRG)\n",
    "\n",
    "    healthcare_costs$APRDRG_Factor <- as.factor(healthcare_costs$APRDRG)\n",
    "    str(healthcare_costs)"
   ]
  },
  {
   "cell_type": "code",
   "execution_count": 57,
   "metadata": {},
   "outputs": [
    {
     "data": {
      "text/html": [
       "<style>\n",
       ".dl-inline {width: auto; margin:0; padding: 0}\n",
       ".dl-inline>dt, .dl-inline>dd {float: none; width: auto; display: inline-block}\n",
       ".dl-inline>dt::after {content: \":\\0020\"; padding-right: .5ex}\n",
       ".dl-inline>dt:not(:first-of-type) {padding-left: .5ex}\n",
       "</style><dl class=dl-inline><dt>21</dt><dd>1</dd><dt>23</dt><dd>1</dd><dt>49</dt><dd>1</dd><dt>50</dt><dd>1</dd><dt>51</dt><dd>1</dd><dt>53</dt><dd>10</dd><dt>54</dt><dd>1</dd><dt>57</dt><dd>2</dd><dt>58</dt><dd>1</dd><dt>92</dt><dd>1</dd><dt>97</dt><dd>1</dd><dt>114</dt><dd>1</dd><dt>115</dt><dd>2</dd><dt>137</dt><dd>1</dd><dt>138</dt><dd>4</dd><dt>139</dt><dd>5</dd><dt>141</dt><dd>1</dd><dt>143</dt><dd>1</dd><dt>204</dt><dd>1</dd><dt>206</dt><dd>1</dd><dt>225</dt><dd>2</dd><dt>249</dt><dd>6</dd><dt>254</dt><dd>1</dd><dt>308</dt><dd>1</dd><dt>313</dt><dd>1</dd><dt>317</dt><dd>1</dd><dt>344</dt><dd>2</dd><dt>347</dt><dd>3</dd><dt>420</dt><dd>2</dd><dt>421</dt><dd>1</dd><dt>422</dt><dd>3</dd><dt>560</dt><dd>2</dd><dt>561</dt><dd>1</dd><dt>566</dt><dd>1</dd><dt>580</dt><dd>1</dd><dt>581</dt><dd>3</dd><dt>602</dt><dd>1</dd><dt>614</dt><dd>3</dd><dt>626</dt><dd>6</dd><dt>633</dt><dd>4</dd><dt>634</dt><dd>2</dd><dt>636</dt><dd>3</dd><dt>639</dt><dd>4</dd><dt>640</dt><dd>266</dd><dt>710</dt><dd>1</dd><dt>720</dt><dd>1</dd><dt>723</dt><dd>2</dd><dt>740</dt><dd>1</dd><dt>750</dt><dd>1</dd><dt>751</dt><dd>14</dd><dt>753</dt><dd>36</dd><dt>754</dt><dd>37</dd><dt>755</dt><dd>13</dd><dt>756</dt><dd>2</dd><dt>758</dt><dd>20</dd><dt>760</dt><dd>2</dd><dt>776</dt><dd>1</dd><dt>811</dt><dd>2</dd><dt>812</dt><dd>3</dd><dt>863</dt><dd>1</dd><dt>911</dt><dd>1</dd><dt>930</dt><dd>2</dd><dt>952</dt><dd>1</dd></dl>\n"
      ],
      "text/latex": [
       "\\begin{description*}\n",
       "\\item[21] 1\n",
       "\\item[23] 1\n",
       "\\item[49] 1\n",
       "\\item[50] 1\n",
       "\\item[51] 1\n",
       "\\item[53] 10\n",
       "\\item[54] 1\n",
       "\\item[57] 2\n",
       "\\item[58] 1\n",
       "\\item[92] 1\n",
       "\\item[97] 1\n",
       "\\item[114] 1\n",
       "\\item[115] 2\n",
       "\\item[137] 1\n",
       "\\item[138] 4\n",
       "\\item[139] 5\n",
       "\\item[141] 1\n",
       "\\item[143] 1\n",
       "\\item[204] 1\n",
       "\\item[206] 1\n",
       "\\item[225] 2\n",
       "\\item[249] 6\n",
       "\\item[254] 1\n",
       "\\item[308] 1\n",
       "\\item[313] 1\n",
       "\\item[317] 1\n",
       "\\item[344] 2\n",
       "\\item[347] 3\n",
       "\\item[420] 2\n",
       "\\item[421] 1\n",
       "\\item[422] 3\n",
       "\\item[560] 2\n",
       "\\item[561] 1\n",
       "\\item[566] 1\n",
       "\\item[580] 1\n",
       "\\item[581] 3\n",
       "\\item[602] 1\n",
       "\\item[614] 3\n",
       "\\item[626] 6\n",
       "\\item[633] 4\n",
       "\\item[634] 2\n",
       "\\item[636] 3\n",
       "\\item[639] 4\n",
       "\\item[640] 266\n",
       "\\item[710] 1\n",
       "\\item[720] 1\n",
       "\\item[723] 2\n",
       "\\item[740] 1\n",
       "\\item[750] 1\n",
       "\\item[751] 14\n",
       "\\item[753] 36\n",
       "\\item[754] 37\n",
       "\\item[755] 13\n",
       "\\item[756] 2\n",
       "\\item[758] 20\n",
       "\\item[760] 2\n",
       "\\item[776] 1\n",
       "\\item[811] 2\n",
       "\\item[812] 3\n",
       "\\item[863] 1\n",
       "\\item[911] 1\n",
       "\\item[930] 2\n",
       "\\item[952] 1\n",
       "\\end{description*}\n"
      ],
      "text/markdown": [
       "21\n",
       ":   123\n",
       ":   149\n",
       ":   150\n",
       ":   151\n",
       ":   153\n",
       ":   1054\n",
       ":   157\n",
       ":   258\n",
       ":   192\n",
       ":   197\n",
       ":   1114\n",
       ":   1115\n",
       ":   2137\n",
       ":   1138\n",
       ":   4139\n",
       ":   5141\n",
       ":   1143\n",
       ":   1204\n",
       ":   1206\n",
       ":   1225\n",
       ":   2249\n",
       ":   6254\n",
       ":   1308\n",
       ":   1313\n",
       ":   1317\n",
       ":   1344\n",
       ":   2347\n",
       ":   3420\n",
       ":   2421\n",
       ":   1422\n",
       ":   3560\n",
       ":   2561\n",
       ":   1566\n",
       ":   1580\n",
       ":   1581\n",
       ":   3602\n",
       ":   1614\n",
       ":   3626\n",
       ":   6633\n",
       ":   4634\n",
       ":   2636\n",
       ":   3639\n",
       ":   4640\n",
       ":   266710\n",
       ":   1720\n",
       ":   1723\n",
       ":   2740\n",
       ":   1750\n",
       ":   1751\n",
       ":   14753\n",
       ":   36754\n",
       ":   37755\n",
       ":   13756\n",
       ":   2758\n",
       ":   20760\n",
       ":   2776\n",
       ":   1811\n",
       ":   2812\n",
       ":   3863\n",
       ":   1911\n",
       ":   1930\n",
       ":   2952\n",
       ":   1\n",
       "\n"
      ],
      "text/plain": [
       " 21  23  49  50  51  53  54  57  58  92  97 114 115 137 138 139 141 143 204 206 \n",
       "  1   1   1   1   1  10   1   2   1   1   1   1   2   1   4   5   1   1   1   1 \n",
       "225 249 254 308 313 317 344 347 420 421 422 560 561 566 580 581 602 614 626 633 \n",
       "  2   6   1   1   1   1   2   3   2   1   3   2   1   1   1   3   1   3   6   4 \n",
       "634 636 639 640 710 720 723 740 750 751 753 754 755 756 758 760 776 811 812 863 \n",
       "  2   3   4 266   1   1   2   1   1  14  36  37  13   2  20   2   1   2   3   1 \n",
       "911 930 952 \n",
       "  1   2   1 "
      ]
     },
     "metadata": {},
     "output_type": "display_data"
    }
   ],
   "source": [
    "#We see that the variable APRDRG has 63 levels\n",
    "summary(healthcare_costs$APRDRG_Factor)\n"
   ]
  },
  {
   "cell_type": "code",
   "execution_count": 32,
   "metadata": {},
   "outputs": [
    {
     "data": {
      "text/html": [
       "<strong>640:</strong> 44"
      ],
      "text/latex": [
       "\\textbf{640:} 44"
      ],
      "text/markdown": [
       "**640:** 44"
      ],
      "text/plain": [
       "640 \n",
       " 44 "
      ]
     },
     "metadata": {},
     "output_type": "display_data"
    },
    {
     "data": {
      "image/png": "[encoded data removed]",
      "text/plain": [
       "Plot with title \"Frequency of Hospital visits by diagnostic related group\""
      ]
     },
     "metadata": {
      "image/png": {
       "height": 420,
       "width": 420
      },
      "text/plain": {
       "height": 420,
       "width": 420
      }
     },
     "output_type": "display_data"
    }
   ],
   "source": [
    "hist(healthcare_costs$APRDRG, \n",
    "    main=\"Frequency of Hospital visits by diagnostic related group\",breaks = 10, \n",
    "    xlab=\"All Patient Refined Diagnosis Related Group\", \n",
    "    border=\"black\", \n",
    "    col=\"darkgreen\")\n",
    "    which.max(summary(healthcare_costs$APRDRG_Factor))\n"
   ]
  },
  {
   "cell_type": "markdown",
   "metadata": {},
   "source": [
    "\n",
    "Result: The histogram shows that the All Patient Refined diagnosis Related Group(APRDRG) \n",
    "with the maximum hospitalization\n",
    "is the diagnosis related group betwen 600 and 700\n",
    "The summary shows that there were 267 hospital visits for the diagnosis related group 640\n",
    "\n"
   ]
  },
  {
   "cell_type": "code",
   "execution_count": 21,
   "metadata": {},
   "outputs": [
    {
     "data": {
      "text/html": [
       "437978"
      ],
      "text/latex": [
       "437978"
      ],
      "text/markdown": [
       "437978"
      ],
      "text/plain": [
       "[1] 437978"
      ]
     },
     "metadata": {},
     "output_type": "display_data"
    },
    {
     "data": {
      "text/html": [
       "<table>\n",
       "<caption>A data.frame: 1 × 2</caption>\n",
       "<thead>\n",
       "\t<tr><th></th><th scope=col>APRDRG</th><th scope=col>TOTCHG</th></tr>\n",
       "\t<tr><th></th><th scope=col>&lt;int&gt;</th><th scope=col>&lt;int&gt;</th></tr>\n",
       "</thead>\n",
       "<tbody>\n",
       "\t<tr><th scope=row>44</th><td>640</td><td>437978</td></tr>\n",
       "</tbody>\n",
       "</table>\n"
      ],
      "text/latex": [
       "A data.frame: 1 × 2\n",
       "\\begin{tabular}{r|ll}\n",
       "  & APRDRG & TOTCHG\\\\\n",
       "  & <int> & <int>\\\\\n",
       "\\hline\n",
       "\t44 & 640 & 437978\\\\\n",
       "\\end{tabular}\n"
      ],
      "text/markdown": [
       "\n",
       "A data.frame: 1 × 2\n",
       "\n",
       "| <!--/--> | APRDRG &lt;int&gt; | TOTCHG &lt;int&gt; |\n",
       "|---|---|---|\n",
       "| 44 | 640 | 437978 |\n",
       "\n"
      ],
      "text/plain": [
       "   APRDRG TOTCHG\n",
       "44 640    437978"
      ]
     },
     "metadata": {},
     "output_type": "display_data"
    }
   ],
   "source": [
    "\n",
    "#2. To find the diagnosis related group with the maximum expenditure,\n",
    "\n",
    "\n",
    "    #We sum up the expenditure of each diagnosis related group, we then find the maximum value of expenditure \n",
    "    # for each group using, we use the aggregate function to sum up the expenditure an  then use\n",
    "    # the max function to find the max value\n",
    "\n",
    "    data <-aggregate(TOTCHG ~ APRDRG, FUN = sum, data = healthcare_costs)\n",
    "    max_costs <- max(aggregate(TOTCHG ~ APRDRG, FUN = sum, data = healthcare_costs))\n",
    "    max_costs\n",
    "    data[(data$TOTCHG == max(data$TOTCHG)),]\n"
   ]
  },
  {
   "cell_type": "markdown",
   "metadata": {},
   "source": [
    "\n",
    "Result:  The Diagnosis Related Group with the maximum expenditure is group APRDRG = 640 \n",
    "with a cost of 437 978\n",
    "which is in accrodance with the APRDRG with  maximum hospitalization.\n",
    "    "
   ]
  },
  {
   "cell_type": "markdown",
   "metadata": {},
   "source": [
    "## Task 3"
   ]
  },
  {
   "cell_type": "markdown",
   "metadata": {},
   "source": [
    "### To make sure that there is no malpractice, the agency needs to analyse if the race of the patient is related to the hospitalization costs."
   ]
  },
  {
   "cell_type": "code",
   "execution_count": 23,
   "metadata": {},
   "outputs": [
    {
     "data": {
      "text/html": [
       "<style>\n",
       ".dl-inline {width: auto; margin:0; padding: 0}\n",
       ".dl-inline>dt, .dl-inline>dd {float: none; width: auto; display: inline-block}\n",
       ".dl-inline>dt::after {content: \":\\0020\"; padding-right: .5ex}\n",
       ".dl-inline>dt:not(:first-of-type) {padding-left: .5ex}\n",
       "</style><dl class=dl-inline><dt>AGE</dt><dd>0</dd><dt>FEMALE</dt><dd>0</dd><dt>LOS</dt><dd>0</dd><dt>RACE</dt><dd>1</dd><dt>TOTCHG</dt><dd>0</dd><dt>APRDRG</dt><dd>0</dd><dt>APRDRG_Factor</dt><dd>0</dd></dl>\n"
      ],
      "text/latex": [
       "\\begin{description*}\n",
       "\\item[AGE] 0\n",
       "\\item[FEMALE] 0\n",
       "\\item[LOS] 0\n",
       "\\item[RACE] 1\n",
       "\\item[TOTCHG] 0\n",
       "\\item[APRDRG] 0\n",
       "\\item[APRDRG\\textbackslash{}\\_Factor] 0\n",
       "\\end{description*}\n"
      ],
      "text/markdown": [
       "AGE\n",
       ":   0FEMALE\n",
       ":   0LOS\n",
       ":   0RACE\n",
       ":   1TOTCHG\n",
       ":   0APRDRG\n",
       ":   0APRDRG_Factor\n",
       ":   0\n",
       "\n"
      ],
      "text/plain": [
       "          AGE        FEMALE           LOS          RACE        TOTCHG \n",
       "            0             0             0             1             0 \n",
       "       APRDRG APRDRG_Factor \n",
       "            0             0 "
      ]
     },
     "metadata": {},
     "output_type": "display_data"
    }
   ],
   "source": [
    "# We want to test if whether race has an impact on hospital discharge cost(TOTCHG)\n",
    "\n",
    "#First we want to find out how many patient fall into each RACE group.  \n",
    "colSums(is.na(healthcare_costs))\n",
    " "
   ]
  },
  {
   "cell_type": "code",
   "execution_count": 61,
   "metadata": {},
   "outputs": [
    {
     "data": {
      "text/html": [
       "<style>\n",
       ".dl-inline {width: auto; margin:0; padding: 0}\n",
       ".dl-inline>dt, .dl-inline>dd {float: none; width: auto; display: inline-block}\n",
       ".dl-inline>dt::after {content: \":\\0020\"; padding-right: .5ex}\n",
       ".dl-inline>dt:not(:first-of-type) {padding-left: .5ex}\n",
       "</style><dl class=dl-inline><dt>AGE</dt><dd>0</dd><dt>FEMALE</dt><dd>0</dd><dt>LOS</dt><dd>0</dd><dt>RACE</dt><dd>0</dd><dt>TOTCHG</dt><dd>0</dd><dt>APRDRG</dt><dd>0</dd><dt>APRDRG_Factor</dt><dd>0</dd></dl>\n"
      ],
      "text/latex": [
       "\\begin{description*}\n",
       "\\item[AGE] 0\n",
       "\\item[FEMALE] 0\n",
       "\\item[LOS] 0\n",
       "\\item[RACE] 0\n",
       "\\item[TOTCHG] 0\n",
       "\\item[APRDRG] 0\n",
       "\\item[APRDRG\\textbackslash{}\\_Factor] 0\n",
       "\\end{description*}\n"
      ],
      "text/markdown": [
       "AGE\n",
       ":   0FEMALE\n",
       ":   0LOS\n",
       ":   0RACE\n",
       ":   0TOTCHG\n",
       ":   0APRDRG\n",
       ":   0APRDRG_Factor\n",
       ":   0\n",
       "\n"
      ],
      "text/plain": [
       "          AGE        FEMALE           LOS          RACE        TOTCHG \n",
       "            0             0             0             0             0 \n",
       "       APRDRG APRDRG_Factor \n",
       "            0             0 "
      ]
     },
     "metadata": {},
     "output_type": "display_data"
    },
    {
     "data": {
      "text/html": [
       "<style>\n",
       ".dl-inline {width: auto; margin:0; padding: 0}\n",
       ".dl-inline>dt, .dl-inline>dd {float: none; width: auto; display: inline-block}\n",
       ".dl-inline>dt::after {content: \":\\0020\"; padding-right: .5ex}\n",
       ".dl-inline>dt:not(:first-of-type) {padding-left: .5ex}\n",
       "</style><dl class=dl-inline><dt>1</dt><dd>484</dd><dt>2</dt><dd>6</dd><dt>3</dt><dd>1</dd><dt>4</dt><dd>3</dd><dt>5</dt><dd>3</dd><dt>6</dt><dd>2</dd></dl>\n"
      ],
      "text/latex": [
       "\\begin{description*}\n",
       "\\item[1] 484\n",
       "\\item[2] 6\n",
       "\\item[3] 1\n",
       "\\item[4] 3\n",
       "\\item[5] 3\n",
       "\\item[6] 2\n",
       "\\end{description*}\n"
      ],
      "text/markdown": [
       "1\n",
       ":   4842\n",
       ":   63\n",
       ":   14\n",
       ":   35\n",
       ":   36\n",
       ":   2\n",
       "\n"
      ],
      "text/plain": [
       "  1   2   3   4   5   6 \n",
       "484   6   1   3   3   2 "
      ]
     },
     "metadata": {},
     "output_type": "display_data"
    }
   ],
   "source": [
    "# The variable Race has 1 missing value so we're going to drop the row that contains\n",
    "# this missing variable.\n",
    "healthcare_costs <- na.omit(healthcare_costs)\n",
    "colSums(is.na(healthcare_costs))#To confirm if the row with the missing value has been dropped\n",
    "summary(healthcare_costs$RACE)"
   ]
  },
  {
   "cell_type": "markdown",
   "metadata": {},
   "source": [
    "The summary shows that 484 of patients that visit the hospital were of RACE 1 this signifies \n",
    "skewed distribution of obervations.\n",
    "We can now check if  whether the race makes an impact on the costs by perform an ANOVA.\n",
    "    "
   ]
  },
  {
   "cell_type": "code",
   "execution_count": 38,
   "metadata": {},
   "outputs": [
    {
     "data": {
      "text/plain": [
       "Call:\n",
       "   aov(formula = TOTCHG ~ RACE, data = healthcare_costs)\n",
       "\n",
       "Terms:\n",
       "                      RACE  Residuals\n",
       "Sum of Squares    18593279 7523518505\n",
       "Deg. of Freedom          5        493\n",
       "\n",
       "Residual standard error: 3906.493\n",
       "Estimated effects may be unbalanced"
      ]
     },
     "metadata": {},
     "output_type": "display_data"
    },
    {
     "data": {
      "text/plain": [
       "             Df    Sum Sq  Mean Sq F value Pr(>F)\n",
       "RACE          5 1.859e+07  3718656   0.244  0.943\n",
       "Residuals   493 7.524e+09 15260687               "
      ]
     },
     "metadata": {},
     "output_type": "display_data"
    }
   ],
   "source": [
    "  \n",
    "    # Defining the null and alternative hypothesis\n",
    "    # Ho: The race had no an impact on the costs\n",
    "    # H1: The race had an impact on the costs\n",
    "    \n",
    "    # ANOVA dependent variable: TOTCHG \n",
    "anova_model <- aov(TOTCHG ~ RACE, data = healthcare_costs)\n",
    "anova_model\n",
    "summary(anova_model)"
   ]
  },
  {
   "cell_type": "code",
   "execution_count": 39,
   "metadata": {},
   "outputs": [],
   "source": [
    "alpha = 0.05\n",
    "pvalue = 0.943"
   ]
  },
  {
   "cell_type": "markdown",
   "metadata": {},
   "source": [
    "\n",
    "We reject the null hypothesis if the p-value is less than the level of significance which is alpha\n",
    "therefore since :\n",
    "pvalue > alpha \n",
    "is true we don't reject the null hypothesis and we conclude that RACE does not have an \n",
    "impact on the hospital cost \n",
    "    "
   ]
  },
  {
   "cell_type": "markdown",
   "metadata": {},
   "source": [
    "## Task 4\n",
    "###  To properly utilize the costs, the agency has to analyze the severity of the hospital costs by age and gender for proper allocation of resources.         "
   ]
  },
  {
   "cell_type": "code",
   "execution_count": 43,
   "metadata": {},
   "outputs": [
    {
     "data": {
      "text/html": [
       "<style>\n",
       ".dl-inline {width: auto; margin:0; padding: 0}\n",
       ".dl-inline>dt, .dl-inline>dd {float: none; width: auto; display: inline-block}\n",
       ".dl-inline>dt::after {content: \":\\0020\"; padding-right: .5ex}\n",
       ".dl-inline>dt:not(:first-of-type) {padding-left: .5ex}\n",
       "</style><dl class=dl-inline><dt>0</dt><dd>244</dd><dt>1</dt><dd>255</dd></dl>\n"
      ],
      "text/latex": [
       "\\begin{description*}\n",
       "\\item[0] 244\n",
       "\\item[1] 255\n",
       "\\end{description*}\n"
      ],
      "text/markdown": [
       "0\n",
       ":   2441\n",
       ":   255\n",
       "\n"
      ],
      "text/plain": [
       "  0   1 \n",
       "244 255 "
      ]
     },
     "metadata": {},
     "output_type": "display_data"
    },
    {
     "data": {
      "text/plain": [
       "             Df    Sum Sq   Mean Sq F value  Pr(>F)   \n",
       "AGE           1 1.297e+08 129749266   8.759 0.00323 **\n",
       "FEMALE        1 6.522e+07  65219972   4.403 0.03638 * \n",
       "Residuals   496 7.347e+09  14812787                   \n",
       "---\n",
       "Signif. codes:  0 '***' 0.001 '**' 0.01 '*' 0.05 '.' 0.1 ' ' 1"
      ]
     },
     "metadata": {},
     "output_type": "display_data"
    }
   ],
   "source": [
    "\n",
    "    #We want to test the impact of of AGE and Gender of the hospotal costs \n",
    "    summary(healthcare_costs$FEMALE)\n",
    "    #The summary shows that gender distribution is almost symmetric \n",
    "    \n",
    "    # We can now check if  whether the Gender and AGE make an impact on the costs by perform an ANOVA.\n",
    "    \n",
    "    # Defining the null and alternative hypothesis\n",
    "    \n",
    "    # Ho: AGE and Gender have no to impact on hospital costs\n",
    "    # H1:  At least AGE or  Gender have an impact on hospital costs\n",
    "    \n",
    "    # ANOVA dependent variable: TOTCHG \n",
    "\n",
    "    model_anova <- aov(TOTCHG ~ AGE+FEMALE, data = healthcare_costs)\n",
    "    summary(model_anova)\n",
    "\n",
    "    alpha = 0.05\n",
    "    "
   ]
  },
  {
   "cell_type": "markdown",
   "metadata": {},
   "source": [
    "from the summary of the anova model we see that the variable AGE \n",
    "does have an impact on the hospital cost at at 1% significance level  \n",
    "We also see that the variable gender has an impact on the hospital cost at 5% significance level\n",
    "    "
   ]
  },
  {
   "cell_type": "code",
   "execution_count": 47,
   "metadata": {},
   "outputs": [
    {
     "data": {
      "text/html": [
       "TRUE"
      ],
      "text/latex": [
       "TRUE"
      ],
      "text/markdown": [
       "TRUE"
      ],
      "text/plain": [
       "[1] TRUE"
      ]
     },
     "metadata": {},
     "output_type": "display_data"
    },
    {
     "data": {
      "text/html": [
       "TRUE"
      ],
      "text/latex": [
       "TRUE"
      ],
      "text/markdown": [
       "TRUE"
      ],
      "text/plain": [
       "[1] TRUE"
      ]
     },
     "metadata": {},
     "output_type": "display_data"
    }
   ],
   "source": [
    "pvalue_AGE = 0.00323 # pvalue for AGE\n",
    "pvalue_gender = 0.03638 # pvalue for gender\n",
    "\n",
    "\n",
    "# We reject the null hypothesis if the p-value is less than the level of significance which is alpha\n",
    "# therefore since :\n",
    "pvalue_AGE < alpha\n",
    "pvalue_gender < alpha"
   ]
  },
  {
   "cell_type": "markdown",
   "metadata": {},
   "source": [
    "are both true(both pvalues are less than the significance level) we reject the null hypothesis \n",
    "and conlude that both AGE and gender have an impact on the hospital costs\n",
    "however age has more impact than gender"
   ]
  },
  {
   "cell_type": "markdown",
   "metadata": {},
   "source": [
    "## Task 5\n",
    "###  Since, the length of stay is the crucial factor for inpatients, the agency wants to find if the length of stay can be predicted from age, gender, and race.     "
   ]
  },
  {
   "cell_type": "code",
   "execution_count": 50,
   "metadata": {},
   "outputs": [
    {
     "data": {
      "text/plain": [
       "\n",
       "Call:\n",
       "lm(formula = LOS ~ AGE + FEMALE + RACE, data = healthcare_costs)\n",
       "\n",
       "Coefficients:\n",
       "(Intercept)          AGE      FEMALE1        RACE2        RACE3        RACE4  \n",
       "    2.85687     -0.03938      0.35391     -0.37501      0.78922      0.59493  \n",
       "      RACE5        RACE6  \n",
       "   -0.85687     -0.71879  \n"
      ]
     },
     "metadata": {},
     "output_type": "display_data"
    },
    {
     "data": {
      "text/plain": [
       "\n",
       "Call:\n",
       "lm(formula = LOS ~ AGE + FEMALE + RACE, data = healthcare_costs)\n",
       "\n",
       "Residuals:\n",
       "   Min     1Q Median     3Q    Max \n",
       "-3.211 -1.211 -0.857  0.143 37.789 \n",
       "\n",
       "Coefficients:\n",
       "            Estimate Std. Error t value Pr(>|t|)    \n",
       "(Intercept)  2.85687    0.23160  12.335   <2e-16 ***\n",
       "AGE         -0.03938    0.02258  -1.744   0.0818 .  \n",
       "FEMALE1      0.35391    0.31292   1.131   0.2586    \n",
       "RACE2       -0.37501    1.39568  -0.269   0.7883    \n",
       "RACE3        0.78922    3.38581   0.233   0.8158    \n",
       "RACE4        0.59493    1.95716   0.304   0.7613    \n",
       "RACE5       -0.85687    1.96273  -0.437   0.6626    \n",
       "RACE6       -0.71879    2.39295  -0.300   0.7640    \n",
       "---\n",
       "Signif. codes:  0 '***' 0.001 '**' 0.01 '*' 0.05 '.' 0.1 ' ' 1\n",
       "\n",
       "Residual standard error: 3.376 on 491 degrees of freedom\n",
       "Multiple R-squared:  0.008699,\tAdjusted R-squared:  -0.005433 \n",
       "F-statistic: 0.6156 on 7 and 491 DF,  p-value: 0.7432\n"
      ]
     },
     "metadata": {},
     "output_type": "display_data"
    }
   ],
   "source": [
    "# since we want to predict the length of stay, this is a regression problem and we're going to \n",
    "#  use a linear regression model\n",
    "\n",
    "  \n",
    "    linear_model <- lm(formula = LOS ~ AGE+FEMALE+RACE,data = healthcare_costs)\n",
    "    linear_model\n",
    "    summary(linear_model)\n",
    "    "
   ]
  },
  {
   "cell_type": "markdown",
   "metadata": {},
   "source": [
    "Results : From the summary of the linear regression model we see that the variables gender and race \n",
    "               are not significant to the model and thus have no impact on length of stay\n",
    "               we also see that the variable AGE is significant to the model at 10% significance level\n",
    "               which means at that level the variable AGE can be used to predict the length of stay\n",
    "             \n",
    "   The adjusted R-sqaured = -0.005433, Negative Adjusted R2 means insignificance of \n",
    "   explanatory variables. The results may be improved with the increase in sample size.\n",
    "    "
   ]
  },
  {
   "cell_type": "markdown",
   "metadata": {},
   "source": [
    "## Task  6\n",
    "### To perform a complete analysis, the agency wants to find the variable that mainly affects the hospital costs."
   ]
  },
  {
   "cell_type": "code",
   "execution_count": 51,
   "metadata": {},
   "outputs": [
    {
     "data": {
      "text/plain": [
       "\n",
       "Call:\n",
       "lm(formula = TOTCHG ~ AGE + FEMALE + LOS + RACE + APRDRG, data = healthcare_costs)\n",
       "\n",
       "Coefficients:\n",
       "(Intercept)          AGE      FEMALE1          LOS        RACE2        RACE3  \n",
       "   5024.961      133.221     -392.578      742.964      458.243      330.518  \n",
       "      RACE4        RACE5        RACE6       APRDRG  \n",
       "   -499.382    -1784.578     -594.292       -7.818  \n"
      ]
     },
     "metadata": {},
     "output_type": "display_data"
    },
    {
     "data": {
      "text/plain": [
       "\n",
       "Call:\n",
       "lm(formula = TOTCHG ~ AGE + FEMALE + LOS + RACE + APRDRG, data = healthcare_costs)\n",
       "\n",
       "Residuals:\n",
       "   Min     1Q Median     3Q    Max \n",
       " -6367   -691   -186    121  43412 \n",
       "\n",
       "Coefficients:\n",
       "              Estimate Std. Error t value Pr(>|t|)    \n",
       "(Intercept)  5024.9610   440.1366  11.417  < 2e-16 ***\n",
       "AGE           133.2207    17.6662   7.541 2.29e-13 ***\n",
       "FEMALE1      -392.5778   249.2981  -1.575    0.116    \n",
       "LOS           742.9637    35.0464  21.199  < 2e-16 ***\n",
       "RACE2         458.2427  1085.2320   0.422    0.673    \n",
       "RACE3         330.5184  2629.5121   0.126    0.900    \n",
       "RACE4        -499.3818  1520.9293  -0.328    0.743    \n",
       "RACE5       -1784.5776  1532.0048  -1.165    0.245    \n",
       "RACE6        -594.2921  1859.1271  -0.320    0.749    \n",
       "APRDRG         -7.8175     0.6881 -11.361  < 2e-16 ***\n",
       "---\n",
       "Signif. codes:  0 '***' 0.001 '**' 0.01 '*' 0.05 '.' 0.1 ' ' 1\n",
       "\n",
       "Residual standard error: 2622 on 489 degrees of freedom\n",
       "Multiple R-squared:  0.5544,\tAdjusted R-squared:  0.5462 \n",
       "F-statistic:  67.6 on 9 and 489 DF,  p-value: < 2.2e-16\n"
      ]
     },
     "metadata": {},
     "output_type": "display_data"
    }
   ],
   "source": [
    "  \n",
    "    #To find the variables that mainly affect the hospital costs we can construct a linear model \n",
    "    # with  AGE,FEMALE ,LOS,RACE,APRDRG as predictor variables and TOTCHG as the dependent or target variable\n",
    "    \n",
    "    linear_model_complete <- lm(formula = TOTCHG ~ AGE + FEMALE + LOS + RACE +  APRDRG,data = healthcare_costs)\n",
    "    linear_model_complete\n",
    "    summary(linear_model_complete)\n",
    "  "
   ]
  },
  {
   "cell_type": "markdown",
   "metadata": {},
   "source": [
    "Result : From the sumamry of the model we see that the variables AGE,LOS and APRDRG are significant to the model at 0.1%, We see that the variables LOS and APRDRG both have a pvalue = < 2e-16 thus they are equally significant and affect the the hospital costs equally\n",
    "    \n",
    "The adjusted R-Square = 0.5462, which means our model has an accuarcy of 54.6%\n",
    "  "
   ]
  },
  {
   "cell_type": "code",
   "execution_count": null,
   "metadata": {},
   "outputs": [],
   "source": []
  }
 ],
 "metadata": {
  "kernelspec": {
   "display_name": "R",
   "language": "R",
   "name": "ir"
  },
  "language_info": {
   "codemirror_mode": "r",
   "file_extension": ".r",
   "mimetype": "text/x-r-source",
   "name": "R",
   "pygments_lexer": "r",
   "version": "3.6.1"
  }
 },
 "nbformat": 4,
 "nbformat_minor": 4
}
